{
 "cells": [
  {
   "cell_type": "markdown",
   "metadata": {},
   "source": [
    "# Car Accident Severity Report\n",
    "\n",
    "## Applied Data Science Capstone - IBM/Coursera"
   ]
  },
  {
   "cell_type": "markdown",
   "metadata": {},
   "source": [
    "# Table of Contents\n",
    " ## - Introduction and Data Analysis\n",
    " ## - Data Review\n",
    " ## - Methodology\n",
    " ## - Results & Evaluation\n",
    " ## - Discussion\n",
    " ## - Conclusion"
   ]
  },
  {
   "cell_type": "markdown",
   "metadata": {},
   "source": [
    "## Data Analysis\n",
    "\n",
    "The data to be used is the one proposed with 252,861 car accidents with the categorization of severity, location and other factors that will guide us for the severity identification of each car accident. Hence dependent variable will be SEVERITYCODE.\n",
    "\n"
   ]
  },
  {
   "cell_type": "code",
   "execution_count": 48,
   "metadata": {},
   "outputs": [],
   "source": [
    "import pandas as pd\n",
    "import matplotlib.pyplot as plt\n",
    "import seaborn as sns\n",
    "import numpy as np\n",
    "import sklearn as sk\n",
    "from sklearn import preprocessing\n",
    "from scipy import stats\n",
    "import scipy as sp\n",
    "import random\n",
    "import seaborn as sns\n",
    "from sklearn.metrics import accuracy_score,f1_score,log_loss,classification_report,confusion_matrix,jaccard_score\n",
    "from sklearn.tree import DecisionTreeClassifier\n",
    "from sklearn.model_selection import train_test_split\n",
    "from sklearn import svm\n",
    "from sklearn import metrics\n",
    "import matplotlib.image as mpimg\n",
    "from io import StringIO\n",
    "import itertools\n",
    "from sklearn.linear_model import LogisticRegression\n",
    "from sklearn.neighbors import KNeighborsClassifier"
   ]
  },
  {
   "cell_type": "code",
   "execution_count": 49,
   "metadata": {},
   "outputs": [
    {
     "data": {
      "text/plain": [
       "<bound method NDFrame.head of         SEVERITYCODE           X          Y  OBJECTID  INCKEY  COLDETKEY  \\\n",
       "0                  2 -122.323148  47.703140         1    1307       1307   \n",
       "1                  1 -122.347294  47.647172         2   52200      52200   \n",
       "2                  1 -122.334540  47.607871         3   26700      26700   \n",
       "3                  1 -122.334803  47.604803         4    1144       1144   \n",
       "4                  2 -122.306426  47.545739         5   17700      17700   \n",
       "5                  1 -122.387598  47.690575         6  320840     322340   \n",
       "6                  1 -122.338485  47.618534         7   83300      83300   \n",
       "7                  2 -122.320780  47.614076         9  330897     332397   \n",
       "8                  1 -122.335930  47.611904        10   63400      63400   \n",
       "9                  2 -122.384700  47.528475        12   58600      58600   \n",
       "10                 1         NaN        NaN        14   48900      48900   \n",
       "11                 1 -122.333831  47.547371        15   38800      38800   \n",
       "12                 1 -122.356273  47.571375        16    2771       2771   \n",
       "13                 1 -122.323966  47.606374        17   32800      32800   \n",
       "14                 2 -122.317414  47.664028        19    1212       1212   \n",
       "15                 1 -122.337663  47.617510        20  330878     332378   \n",
       "16                 2 -122.344539  47.692012        21   46300      46300   \n",
       "17                 1         NaN        NaN        23   23000      23000   \n",
       "18                 2 -122.328270  47.571420        24  330833     332333   \n",
       "19                 1 -122.383802  47.583715        25   97100      97100   \n",
       "20                 2 -122.292403  47.732847        26    1347       1347   \n",
       "21                 2 -122.313786  47.708535        28    1323       1323   \n",
       "22                 1 -122.318169  47.615837        29   80000      80000   \n",
       "23                 1 -122.337486  47.589746        31   28700      28700   \n",
       "24                 2 -122.279658  47.553405        33    1268       1268   \n",
       "25                 2 -122.312857  47.599218        34  320932     322432   \n",
       "26                 1 -122.330730  47.615450        35  113300     113300   \n",
       "27                 1 -122.385859  47.581191        36   64700      64700   \n",
       "28                 1 -122.304990  47.611474        37    1083       1083   \n",
       "29                 1         NaN        NaN        38   61500      61500   \n",
       "...              ...         ...        ...       ...     ...        ...   \n",
       "194643             1 -122.345863  47.612991    219510  307577     308857   \n",
       "194644             1 -122.330298  47.603233    219511  312117     313537   \n",
       "194645             2 -122.328079  47.604161    219512  307692     308972   \n",
       "194646             1 -122.320756  47.608656    219513  312289     313709   \n",
       "194647             2 -122.355449  47.704720    219514  308575     309855   \n",
       "194648             1 -122.357624  47.635956    219515  307792     309072   \n",
       "194649             2 -122.302382  47.626759    219516  307985     309265   \n",
       "194650             2 -122.355298  47.684382    219517  310417     311717   \n",
       "194651             1 -122.320780  47.614076    219519  309594     310874   \n",
       "194652             1 -122.335527  47.617434    219520  308698     309978   \n",
       "194653             2 -122.322097  47.649615    219521  308342     309622   \n",
       "194654             1 -122.312679  47.719414    219522  311117     312437   \n",
       "194655             2 -122.380016  47.664879    219523  310911     312231   \n",
       "194656             2 -122.340474  47.614496    219524  312179     313599   \n",
       "194657             1 -122.337137  47.610709    219525  307834     309114   \n",
       "194658             1 -122.302554  47.584099    219528  311697     313057   \n",
       "194659             1 -122.298955  47.717456    219529  308019     309299   \n",
       "194660             2         NaN        NaN    219531  308990     310270   \n",
       "194661             2 -122.306092  47.617881    219532  308532     309812   \n",
       "194662             1 -122.337880  47.625793    219535  307802     309082   \n",
       "194663             2 -122.299160  47.579673    219536  309335     310615   \n",
       "194664             1 -122.325887  47.643191    219537  309222     310502   \n",
       "194665             1 -122.304217  47.669537    219538  308480     309760   \n",
       "194666             2 -122.344569  47.694547    219539  309170     310450   \n",
       "194667             1 -122.361672  47.556722    219541  307804     309084   \n",
       "194668             2 -122.290826  47.565408    219543  309534     310814   \n",
       "194669             1 -122.344526  47.690924    219544  309085     310365   \n",
       "194670             2 -122.306689  47.683047    219545  311280     312640   \n",
       "194671             2 -122.355317  47.678734    219546  309514     310794   \n",
       "194672             1 -122.289360  47.611017    219547  308220     309500   \n",
       "\n",
       "       REPORTNO     STATUS      ADDRTYPE   INTKEY  ... ROADCOND  \\\n",
       "0       3502005    Matched  Intersection  37475.0  ...      Wet   \n",
       "1       2607959    Matched         Block      NaN  ...      Wet   \n",
       "2       1482393    Matched         Block      NaN  ...      Dry   \n",
       "3       3503937    Matched         Block      NaN  ...      Dry   \n",
       "4       1807429    Matched  Intersection  34387.0  ...      Wet   \n",
       "5       E919477    Matched  Intersection  36974.0  ...      Dry   \n",
       "6       3282542    Matched  Intersection  29510.0  ...      Wet   \n",
       "7       EA30304    Matched  Intersection  29745.0  ...      Dry   \n",
       "8       2071243    Matched         Block      NaN  ...      Dry   \n",
       "9       2072105    Matched  Intersection  34679.0  ...      Dry   \n",
       "10      2024040    Matched         Alley      NaN  ...      Dry   \n",
       "11      C654800    Matched  Intersection  33194.0  ...      Dry   \n",
       "12      1211870  Unmatched         Block      NaN  ...      Wet   \n",
       "13      2128498    Matched         Block      NaN  ...      Wet   \n",
       "14      3507861    Matched         Block      NaN  ...      Dry   \n",
       "15      3838086  Unmatched         Block      NaN  ...      NaN   \n",
       "16      2023080    Matched  Intersection  37365.0  ...      Dry   \n",
       "17       537838    Matched         Block      NaN  ...      Dry   \n",
       "18      EA29752    Matched         Block      NaN  ...      Dry   \n",
       "19      2894590    Matched         Block      NaN  ...      Dry   \n",
       "20      3608880    Matched         Block      NaN  ...      Dry   \n",
       "21      3502831    Matched  Intersection  36505.0  ...      Dry   \n",
       "22      2882620    Matched         Block      NaN  ...      Dry   \n",
       "23      1213894    Matched         Block      NaN  ...  Unknown   \n",
       "24      3672152    Matched  Intersection  33499.0  ...      Dry   \n",
       "25      E926429    Matched         Block      NaN  ...      Dry   \n",
       "26      3346338    Matched  Intersection  29865.0  ...      Wet   \n",
       "27      2798260    Matched         Block      NaN  ...      Dry   \n",
       "28      3605909    Matched         Block      NaN  ...      Dry   \n",
       "29      2607270    Matched         Block      NaN  ...      Dry   \n",
       "...         ...        ...           ...      ...  ...      ...   \n",
       "194643  3811871    Matched         Block      NaN  ...      Dry   \n",
       "194644  E885893    Matched  Intersection  30479.0  ...      Dry   \n",
       "194645  E851047    Matched  Intersection  29973.0  ...      Dry   \n",
       "194646  E872044  Unmatched         Block      NaN  ...      NaN   \n",
       "194647  E872078    Matched         Block      NaN  ...      Wet   \n",
       "194648  3578593    Matched         Block      NaN  ...      Wet   \n",
       "194649  E869075    Matched  Intersection  29328.0  ...      Dry   \n",
       "194650  3751221    Matched         Block      NaN  ...      Dry   \n",
       "194651  E881227    Matched  Intersection  29745.0  ...      Wet   \n",
       "194652  3812450    Matched         Block      NaN  ...      Wet   \n",
       "194653  3693206    Matched         Block      NaN  ...      Wet   \n",
       "194654  E881587  Unmatched  Intersection  36427.0  ...      NaN   \n",
       "194655  3751425  Unmatched  Intersection  25174.0  ...      NaN   \n",
       "194656  E885580    Matched  Intersection  29545.0  ...      Dry   \n",
       "194657  3811279    Matched         Block      NaN  ...      Wet   \n",
       "194658  E886941    Matched         Block      NaN  ...      Wet   \n",
       "194659  3767486    Matched         Block      NaN  ...      Wet   \n",
       "194660  3811749    Matched         Block      NaN  ...      Wet   \n",
       "194661  3814599    Matched         Block      NaN  ...      Dry   \n",
       "194662  E869008    Matched         Block      NaN  ...      Dry   \n",
       "194663  E880807    Matched         Block      NaN  ...      Wet   \n",
       "194664  E879537    Matched  Intersection  28300.0  ...      Dry   \n",
       "194665  3642620    Matched  Intersection  26005.0  ...      Dry   \n",
       "194666  E879712    Matched         Block      NaN  ...      Wet   \n",
       "194667  3745813    Matched         Block      NaN  ...      Wet   \n",
       "194668  E871089    Matched         Block      NaN  ...      Dry   \n",
       "194669  E876731    Matched         Block      NaN  ...      Wet   \n",
       "194670  3809984    Matched  Intersection  24760.0  ...      Dry   \n",
       "194671  3810083    Matched  Intersection  24349.0  ...      Dry   \n",
       "194672  E868008    Matched         Block      NaN  ...      Wet   \n",
       "\n",
       "                      LIGHTCOND PEDROWNOTGRNT  SDOTCOLNUM SPEEDING ST_COLCODE  \\\n",
       "0                      Daylight           NaN         NaN      NaN         10   \n",
       "1       Dark - Street Lights On           NaN   6354039.0      NaN         11   \n",
       "2                      Daylight           NaN   4323031.0      NaN         32   \n",
       "3                      Daylight           NaN         NaN      NaN         23   \n",
       "4                      Daylight           NaN   4028032.0      NaN         10   \n",
       "5                      Daylight           NaN         NaN      NaN         10   \n",
       "6                      Daylight           NaN   8344002.0      NaN         10   \n",
       "7                      Daylight           NaN         NaN      NaN          5   \n",
       "8                      Daylight           NaN   6166014.0      NaN         32   \n",
       "9                      Daylight           NaN   6079001.0      NaN         10   \n",
       "10                     Daylight           NaN   6145029.0      NaN         22   \n",
       "11                     Daylight           NaN   5223041.0      NaN         10   \n",
       "12      Dark - Street Lights On           NaN   3137016.0      NaN         14   \n",
       "13      Dark - No Street Lights           NaN   5356027.0      NaN         32   \n",
       "14      Dark - Street Lights On           NaN         NaN      NaN         30   \n",
       "15                          NaN           NaN         NaN      NaN              \n",
       "16                     Daylight           NaN   5182022.0      NaN         28   \n",
       "17                     Daylight           NaN   4016025.0      NaN         14   \n",
       "18                     Daylight           NaN         NaN      NaN         14   \n",
       "19                      Unknown           NaN   9152035.0      NaN         32   \n",
       "20      Dark - Street Lights On           NaN         NaN      NaN         14   \n",
       "21                     Daylight           NaN         NaN      NaN         10   \n",
       "22      Dark - Street Lights On           NaN   8200013.0      NaN         32   \n",
       "23                      Unknown           NaN   4256026.0      NaN         51   \n",
       "24                     Daylight           NaN         NaN        Y         14   \n",
       "25                     Daylight           NaN         NaN      NaN          5   \n",
       "26                      Unknown           NaN  10317016.0      NaN         28   \n",
       "27                     Daylight           NaN   7204015.0      NaN         10   \n",
       "28                     Daylight           NaN         NaN      NaN         23   \n",
       "29                     Daylight           NaN   6320040.0      NaN         32   \n",
       "...                         ...           ...         ...      ...        ...   \n",
       "194643  Dark - Street Lights On           NaN         NaN      NaN         20   \n",
       "194644                     Dusk           NaN         NaN      NaN         10   \n",
       "194645  Dark - Street Lights On           NaN         NaN      NaN         16   \n",
       "194646                      NaN           NaN         NaN      NaN              \n",
       "194647                     Dusk           NaN         NaN      NaN          0   \n",
       "194648  Dark - Street Lights On           NaN         NaN      NaN         10   \n",
       "194649  Dark - Street Lights On           NaN         NaN      NaN         28   \n",
       "194650                 Daylight           NaN         NaN      NaN         32   \n",
       "194651  Dark - Street Lights On           NaN         NaN      NaN          0   \n",
       "194652                     Dusk           NaN         NaN      NaN         32   \n",
       "194653  Dark - Street Lights On           NaN         NaN      NaN         32   \n",
       "194654                      NaN           NaN         NaN      NaN              \n",
       "194655                      NaN           NaN         NaN      NaN              \n",
       "194656                 Daylight           NaN         NaN      NaN          2   \n",
       "194657  Dark - Street Lights On           NaN         NaN      NaN         11   \n",
       "194658  Dark - Street Lights On           NaN         NaN      NaN         14   \n",
       "194659  Dark - Street Lights On           NaN         NaN      NaN         32   \n",
       "194660                    Other           NaN         NaN      NaN         52   \n",
       "194661                 Daylight           NaN         NaN      NaN         29   \n",
       "194662                     Dusk           NaN         NaN      NaN         32   \n",
       "194663                 Daylight           NaN         NaN      NaN         10   \n",
       "194664                 Daylight           NaN         NaN      NaN         10   \n",
       "194665                 Daylight           NaN         NaN      NaN         10   \n",
       "194666                 Daylight           NaN         NaN      NaN         10   \n",
       "194667  Dark - Street Lights On           NaN         NaN      NaN         50   \n",
       "194668                 Daylight           NaN         NaN      NaN         24   \n",
       "194669                 Daylight           NaN         NaN      NaN         13   \n",
       "194670                 Daylight           NaN         NaN      NaN         28   \n",
       "194671                     Dusk           NaN         NaN      NaN          5   \n",
       "194672                 Daylight           NaN         NaN      NaN         14   \n",
       "\n",
       "                                               ST_COLDESC  SEGLANEKEY  \\\n",
       "0                                       Entering at angle           0   \n",
       "1       From same direction - both going straight - bo...           0   \n",
       "2                                  One parked--one moving           0   \n",
       "3                        From same direction - all others           0   \n",
       "4                                       Entering at angle           0   \n",
       "5                                       Entering at angle           0   \n",
       "6                                       Entering at angle           0   \n",
       "7                            Vehicle Strikes Pedalcyclist        6855   \n",
       "8                                  One parked--one moving           0   \n",
       "9                                       Entering at angle           0   \n",
       "10                        One car leaving driveway access           0   \n",
       "11                                      Entering at angle           0   \n",
       "12      From same direction - both going straight - on...           0   \n",
       "13                                 One parked--one moving           0   \n",
       "14                   From opposite direction - all others           0   \n",
       "15                                                    NaN           0   \n",
       "16      From opposite direction - one left turn - one ...           0   \n",
       "17      From same direction - both going straight - on...           0   \n",
       "18      From same direction - both going straight - on...           0   \n",
       "19                                 One parked--one moving           0   \n",
       "20      From same direction - both going straight - on...           0   \n",
       "21                                      Entering at angle           0   \n",
       "22                                 One parked--one moving           0   \n",
       "23                                           Other object           0   \n",
       "24      From same direction - both going straight - on...           0   \n",
       "25                           Vehicle Strikes Pedalcyclist           0   \n",
       "26      From opposite direction - one left turn - one ...           0   \n",
       "27                                      Entering at angle           0   \n",
       "28                       From same direction - all others           0   \n",
       "29                                 One parked--one moving           0   \n",
       "...                                                   ...         ...   \n",
       "194643                    One car leaving parked position           0   \n",
       "194644                                  Entering at angle           0   \n",
       "194645  From same direction - one right turn - one str...           0   \n",
       "194646                                                NaN           0   \n",
       "194647             Vehicle going straight hits pedestrian           0   \n",
       "194648                                  Entering at angle           0   \n",
       "194649  From opposite direction - one left turn - one ...           0   \n",
       "194650                             One parked--one moving           0   \n",
       "194651             Vehicle going straight hits pedestrian           0   \n",
       "194652                             One parked--one moving           0   \n",
       "194653                             One parked--one moving           0   \n",
       "194654                                                NaN           0   \n",
       "194655                                                NaN           0   \n",
       "194656               Vehicle turning left hits pedestrian           0   \n",
       "194657  From same direction - both going straight - bo...           0   \n",
       "194658  From same direction - both going straight - on...           0   \n",
       "194659                             One parked--one moving           0   \n",
       "194660                                 Vehicle overturned           0   \n",
       "194661  From opposite direction - one left turn - one ...           0   \n",
       "194662                             One parked--one moving           0   \n",
       "194663                                  Entering at angle           0   \n",
       "194664                                  Entering at angle           0   \n",
       "194665                                  Entering at angle           0   \n",
       "194666                                  Entering at angle           0   \n",
       "194667                                       Fixed object           0   \n",
       "194668    From opposite direction - both moving - head-on           0   \n",
       "194669  From same direction - both going straight - bo...           0   \n",
       "194670  From opposite direction - one left turn - one ...           0   \n",
       "194671                       Vehicle Strikes Pedalcyclist        4308   \n",
       "194672  From same direction - both going straight - on...           0   \n",
       "\n",
       "        CROSSWALKKEY  HITPARKEDCAR  \n",
       "0                  0             N  \n",
       "1                  0             N  \n",
       "2                  0             N  \n",
       "3                  0             N  \n",
       "4                  0             N  \n",
       "5                  0             N  \n",
       "6                  0             N  \n",
       "7                  0             N  \n",
       "8                  0             N  \n",
       "9                  0             N  \n",
       "10                 0             N  \n",
       "11                 0             N  \n",
       "12                 0             N  \n",
       "13                 0             N  \n",
       "14                 0             N  \n",
       "15                 0             N  \n",
       "16                 0             N  \n",
       "17                 0             N  \n",
       "18                 0             N  \n",
       "19                 0             N  \n",
       "20                 0             N  \n",
       "21                 0             N  \n",
       "22                 0             N  \n",
       "23                 0             N  \n",
       "24                 0             N  \n",
       "25                 0             N  \n",
       "26                 0             N  \n",
       "27                 0             N  \n",
       "28                 0             N  \n",
       "29                 0             N  \n",
       "...              ...           ...  \n",
       "194643             0             N  \n",
       "194644             0             N  \n",
       "194645             0             N  \n",
       "194646             0             N  \n",
       "194647             0             N  \n",
       "194648             0             N  \n",
       "194649             0             N  \n",
       "194650             0             Y  \n",
       "194651        522257             N  \n",
       "194652             0             Y  \n",
       "194653             0             Y  \n",
       "194654             0             N  \n",
       "194655        650595             N  \n",
       "194656        523322             N  \n",
       "194657             0             N  \n",
       "194658             0             N  \n",
       "194659             0             Y  \n",
       "194660             0             N  \n",
       "194661             0             N  \n",
       "194662             0             Y  \n",
       "194663             0             N  \n",
       "194664             0             N  \n",
       "194665             0             N  \n",
       "194666             0             N  \n",
       "194667             0             N  \n",
       "194668             0             N  \n",
       "194669             0             N  \n",
       "194670             0             N  \n",
       "194671             0             N  \n",
       "194672             0             N  \n",
       "\n",
       "[194673 rows x 38 columns]>"
      ]
     },
     "execution_count": 49,
     "metadata": {},
     "output_type": "execute_result"
    }
   ],
   "source": [
    "#Importing Dataset\n",
    "filepath=r'C:\\Users\\abel.fernandez.alva1\\Desktop\\car_severity.csv'\n",
    "df=pd.read_csv(filepath,low_memory=False)\n",
    "df.head"
   ]
  },
  {
   "cell_type": "code",
   "execution_count": 50,
   "metadata": {},
   "outputs": [
    {
     "data": {
      "text/plain": [
       "<bound method DataFrame.info of         SEVERITYCODE           X          Y  OBJECTID  INCKEY  COLDETKEY  \\\n",
       "0                  2 -122.323148  47.703140         1    1307       1307   \n",
       "1                  1 -122.347294  47.647172         2   52200      52200   \n",
       "2                  1 -122.334540  47.607871         3   26700      26700   \n",
       "3                  1 -122.334803  47.604803         4    1144       1144   \n",
       "4                  2 -122.306426  47.545739         5   17700      17700   \n",
       "5                  1 -122.387598  47.690575         6  320840     322340   \n",
       "6                  1 -122.338485  47.618534         7   83300      83300   \n",
       "7                  2 -122.320780  47.614076         9  330897     332397   \n",
       "8                  1 -122.335930  47.611904        10   63400      63400   \n",
       "9                  2 -122.384700  47.528475        12   58600      58600   \n",
       "10                 1         NaN        NaN        14   48900      48900   \n",
       "11                 1 -122.333831  47.547371        15   38800      38800   \n",
       "12                 1 -122.356273  47.571375        16    2771       2771   \n",
       "13                 1 -122.323966  47.606374        17   32800      32800   \n",
       "14                 2 -122.317414  47.664028        19    1212       1212   \n",
       "15                 1 -122.337663  47.617510        20  330878     332378   \n",
       "16                 2 -122.344539  47.692012        21   46300      46300   \n",
       "17                 1         NaN        NaN        23   23000      23000   \n",
       "18                 2 -122.328270  47.571420        24  330833     332333   \n",
       "19                 1 -122.383802  47.583715        25   97100      97100   \n",
       "20                 2 -122.292403  47.732847        26    1347       1347   \n",
       "21                 2 -122.313786  47.708535        28    1323       1323   \n",
       "22                 1 -122.318169  47.615837        29   80000      80000   \n",
       "23                 1 -122.337486  47.589746        31   28700      28700   \n",
       "24                 2 -122.279658  47.553405        33    1268       1268   \n",
       "25                 2 -122.312857  47.599218        34  320932     322432   \n",
       "26                 1 -122.330730  47.615450        35  113300     113300   \n",
       "27                 1 -122.385859  47.581191        36   64700      64700   \n",
       "28                 1 -122.304990  47.611474        37    1083       1083   \n",
       "29                 1         NaN        NaN        38   61500      61500   \n",
       "...              ...         ...        ...       ...     ...        ...   \n",
       "194643             1 -122.345863  47.612991    219510  307577     308857   \n",
       "194644             1 -122.330298  47.603233    219511  312117     313537   \n",
       "194645             2 -122.328079  47.604161    219512  307692     308972   \n",
       "194646             1 -122.320756  47.608656    219513  312289     313709   \n",
       "194647             2 -122.355449  47.704720    219514  308575     309855   \n",
       "194648             1 -122.357624  47.635956    219515  307792     309072   \n",
       "194649             2 -122.302382  47.626759    219516  307985     309265   \n",
       "194650             2 -122.355298  47.684382    219517  310417     311717   \n",
       "194651             1 -122.320780  47.614076    219519  309594     310874   \n",
       "194652             1 -122.335527  47.617434    219520  308698     309978   \n",
       "194653             2 -122.322097  47.649615    219521  308342     309622   \n",
       "194654             1 -122.312679  47.719414    219522  311117     312437   \n",
       "194655             2 -122.380016  47.664879    219523  310911     312231   \n",
       "194656             2 -122.340474  47.614496    219524  312179     313599   \n",
       "194657             1 -122.337137  47.610709    219525  307834     309114   \n",
       "194658             1 -122.302554  47.584099    219528  311697     313057   \n",
       "194659             1 -122.298955  47.717456    219529  308019     309299   \n",
       "194660             2         NaN        NaN    219531  308990     310270   \n",
       "194661             2 -122.306092  47.617881    219532  308532     309812   \n",
       "194662             1 -122.337880  47.625793    219535  307802     309082   \n",
       "194663             2 -122.299160  47.579673    219536  309335     310615   \n",
       "194664             1 -122.325887  47.643191    219537  309222     310502   \n",
       "194665             1 -122.304217  47.669537    219538  308480     309760   \n",
       "194666             2 -122.344569  47.694547    219539  309170     310450   \n",
       "194667             1 -122.361672  47.556722    219541  307804     309084   \n",
       "194668             2 -122.290826  47.565408    219543  309534     310814   \n",
       "194669             1 -122.344526  47.690924    219544  309085     310365   \n",
       "194670             2 -122.306689  47.683047    219545  311280     312640   \n",
       "194671             2 -122.355317  47.678734    219546  309514     310794   \n",
       "194672             1 -122.289360  47.611017    219547  308220     309500   \n",
       "\n",
       "       REPORTNO     STATUS      ADDRTYPE   INTKEY  ... ROADCOND  \\\n",
       "0       3502005    Matched  Intersection  37475.0  ...      Wet   \n",
       "1       2607959    Matched         Block      NaN  ...      Wet   \n",
       "2       1482393    Matched         Block      NaN  ...      Dry   \n",
       "3       3503937    Matched         Block      NaN  ...      Dry   \n",
       "4       1807429    Matched  Intersection  34387.0  ...      Wet   \n",
       "5       E919477    Matched  Intersection  36974.0  ...      Dry   \n",
       "6       3282542    Matched  Intersection  29510.0  ...      Wet   \n",
       "7       EA30304    Matched  Intersection  29745.0  ...      Dry   \n",
       "8       2071243    Matched         Block      NaN  ...      Dry   \n",
       "9       2072105    Matched  Intersection  34679.0  ...      Dry   \n",
       "10      2024040    Matched         Alley      NaN  ...      Dry   \n",
       "11      C654800    Matched  Intersection  33194.0  ...      Dry   \n",
       "12      1211870  Unmatched         Block      NaN  ...      Wet   \n",
       "13      2128498    Matched         Block      NaN  ...      Wet   \n",
       "14      3507861    Matched         Block      NaN  ...      Dry   \n",
       "15      3838086  Unmatched         Block      NaN  ...      NaN   \n",
       "16      2023080    Matched  Intersection  37365.0  ...      Dry   \n",
       "17       537838    Matched         Block      NaN  ...      Dry   \n",
       "18      EA29752    Matched         Block      NaN  ...      Dry   \n",
       "19      2894590    Matched         Block      NaN  ...      Dry   \n",
       "20      3608880    Matched         Block      NaN  ...      Dry   \n",
       "21      3502831    Matched  Intersection  36505.0  ...      Dry   \n",
       "22      2882620    Matched         Block      NaN  ...      Dry   \n",
       "23      1213894    Matched         Block      NaN  ...  Unknown   \n",
       "24      3672152    Matched  Intersection  33499.0  ...      Dry   \n",
       "25      E926429    Matched         Block      NaN  ...      Dry   \n",
       "26      3346338    Matched  Intersection  29865.0  ...      Wet   \n",
       "27      2798260    Matched         Block      NaN  ...      Dry   \n",
       "28      3605909    Matched         Block      NaN  ...      Dry   \n",
       "29      2607270    Matched         Block      NaN  ...      Dry   \n",
       "...         ...        ...           ...      ...  ...      ...   \n",
       "194643  3811871    Matched         Block      NaN  ...      Dry   \n",
       "194644  E885893    Matched  Intersection  30479.0  ...      Dry   \n",
       "194645  E851047    Matched  Intersection  29973.0  ...      Dry   \n",
       "194646  E872044  Unmatched         Block      NaN  ...      NaN   \n",
       "194647  E872078    Matched         Block      NaN  ...      Wet   \n",
       "194648  3578593    Matched         Block      NaN  ...      Wet   \n",
       "194649  E869075    Matched  Intersection  29328.0  ...      Dry   \n",
       "194650  3751221    Matched         Block      NaN  ...      Dry   \n",
       "194651  E881227    Matched  Intersection  29745.0  ...      Wet   \n",
       "194652  3812450    Matched         Block      NaN  ...      Wet   \n",
       "194653  3693206    Matched         Block      NaN  ...      Wet   \n",
       "194654  E881587  Unmatched  Intersection  36427.0  ...      NaN   \n",
       "194655  3751425  Unmatched  Intersection  25174.0  ...      NaN   \n",
       "194656  E885580    Matched  Intersection  29545.0  ...      Dry   \n",
       "194657  3811279    Matched         Block      NaN  ...      Wet   \n",
       "194658  E886941    Matched         Block      NaN  ...      Wet   \n",
       "194659  3767486    Matched         Block      NaN  ...      Wet   \n",
       "194660  3811749    Matched         Block      NaN  ...      Wet   \n",
       "194661  3814599    Matched         Block      NaN  ...      Dry   \n",
       "194662  E869008    Matched         Block      NaN  ...      Dry   \n",
       "194663  E880807    Matched         Block      NaN  ...      Wet   \n",
       "194664  E879537    Matched  Intersection  28300.0  ...      Dry   \n",
       "194665  3642620    Matched  Intersection  26005.0  ...      Dry   \n",
       "194666  E879712    Matched         Block      NaN  ...      Wet   \n",
       "194667  3745813    Matched         Block      NaN  ...      Wet   \n",
       "194668  E871089    Matched         Block      NaN  ...      Dry   \n",
       "194669  E876731    Matched         Block      NaN  ...      Wet   \n",
       "194670  3809984    Matched  Intersection  24760.0  ...      Dry   \n",
       "194671  3810083    Matched  Intersection  24349.0  ...      Dry   \n",
       "194672  E868008    Matched         Block      NaN  ...      Wet   \n",
       "\n",
       "                      LIGHTCOND PEDROWNOTGRNT  SDOTCOLNUM SPEEDING ST_COLCODE  \\\n",
       "0                      Daylight           NaN         NaN      NaN         10   \n",
       "1       Dark - Street Lights On           NaN   6354039.0      NaN         11   \n",
       "2                      Daylight           NaN   4323031.0      NaN         32   \n",
       "3                      Daylight           NaN         NaN      NaN         23   \n",
       "4                      Daylight           NaN   4028032.0      NaN         10   \n",
       "5                      Daylight           NaN         NaN      NaN         10   \n",
       "6                      Daylight           NaN   8344002.0      NaN         10   \n",
       "7                      Daylight           NaN         NaN      NaN          5   \n",
       "8                      Daylight           NaN   6166014.0      NaN         32   \n",
       "9                      Daylight           NaN   6079001.0      NaN         10   \n",
       "10                     Daylight           NaN   6145029.0      NaN         22   \n",
       "11                     Daylight           NaN   5223041.0      NaN         10   \n",
       "12      Dark - Street Lights On           NaN   3137016.0      NaN         14   \n",
       "13      Dark - No Street Lights           NaN   5356027.0      NaN         32   \n",
       "14      Dark - Street Lights On           NaN         NaN      NaN         30   \n",
       "15                          NaN           NaN         NaN      NaN              \n",
       "16                     Daylight           NaN   5182022.0      NaN         28   \n",
       "17                     Daylight           NaN   4016025.0      NaN         14   \n",
       "18                     Daylight           NaN         NaN      NaN         14   \n",
       "19                      Unknown           NaN   9152035.0      NaN         32   \n",
       "20      Dark - Street Lights On           NaN         NaN      NaN         14   \n",
       "21                     Daylight           NaN         NaN      NaN         10   \n",
       "22      Dark - Street Lights On           NaN   8200013.0      NaN         32   \n",
       "23                      Unknown           NaN   4256026.0      NaN         51   \n",
       "24                     Daylight           NaN         NaN        Y         14   \n",
       "25                     Daylight           NaN         NaN      NaN          5   \n",
       "26                      Unknown           NaN  10317016.0      NaN         28   \n",
       "27                     Daylight           NaN   7204015.0      NaN         10   \n",
       "28                     Daylight           NaN         NaN      NaN         23   \n",
       "29                     Daylight           NaN   6320040.0      NaN         32   \n",
       "...                         ...           ...         ...      ...        ...   \n",
       "194643  Dark - Street Lights On           NaN         NaN      NaN         20   \n",
       "194644                     Dusk           NaN         NaN      NaN         10   \n",
       "194645  Dark - Street Lights On           NaN         NaN      NaN         16   \n",
       "194646                      NaN           NaN         NaN      NaN              \n",
       "194647                     Dusk           NaN         NaN      NaN          0   \n",
       "194648  Dark - Street Lights On           NaN         NaN      NaN         10   \n",
       "194649  Dark - Street Lights On           NaN         NaN      NaN         28   \n",
       "194650                 Daylight           NaN         NaN      NaN         32   \n",
       "194651  Dark - Street Lights On           NaN         NaN      NaN          0   \n",
       "194652                     Dusk           NaN         NaN      NaN         32   \n",
       "194653  Dark - Street Lights On           NaN         NaN      NaN         32   \n",
       "194654                      NaN           NaN         NaN      NaN              \n",
       "194655                      NaN           NaN         NaN      NaN              \n",
       "194656                 Daylight           NaN         NaN      NaN          2   \n",
       "194657  Dark - Street Lights On           NaN         NaN      NaN         11   \n",
       "194658  Dark - Street Lights On           NaN         NaN      NaN         14   \n",
       "194659  Dark - Street Lights On           NaN         NaN      NaN         32   \n",
       "194660                    Other           NaN         NaN      NaN         52   \n",
       "194661                 Daylight           NaN         NaN      NaN         29   \n",
       "194662                     Dusk           NaN         NaN      NaN         32   \n",
       "194663                 Daylight           NaN         NaN      NaN         10   \n",
       "194664                 Daylight           NaN         NaN      NaN         10   \n",
       "194665                 Daylight           NaN         NaN      NaN         10   \n",
       "194666                 Daylight           NaN         NaN      NaN         10   \n",
       "194667  Dark - Street Lights On           NaN         NaN      NaN         50   \n",
       "194668                 Daylight           NaN         NaN      NaN         24   \n",
       "194669                 Daylight           NaN         NaN      NaN         13   \n",
       "194670                 Daylight           NaN         NaN      NaN         28   \n",
       "194671                     Dusk           NaN         NaN      NaN          5   \n",
       "194672                 Daylight           NaN         NaN      NaN         14   \n",
       "\n",
       "                                               ST_COLDESC  SEGLANEKEY  \\\n",
       "0                                       Entering at angle           0   \n",
       "1       From same direction - both going straight - bo...           0   \n",
       "2                                  One parked--one moving           0   \n",
       "3                        From same direction - all others           0   \n",
       "4                                       Entering at angle           0   \n",
       "5                                       Entering at angle           0   \n",
       "6                                       Entering at angle           0   \n",
       "7                            Vehicle Strikes Pedalcyclist        6855   \n",
       "8                                  One parked--one moving           0   \n",
       "9                                       Entering at angle           0   \n",
       "10                        One car leaving driveway access           0   \n",
       "11                                      Entering at angle           0   \n",
       "12      From same direction - both going straight - on...           0   \n",
       "13                                 One parked--one moving           0   \n",
       "14                   From opposite direction - all others           0   \n",
       "15                                                    NaN           0   \n",
       "16      From opposite direction - one left turn - one ...           0   \n",
       "17      From same direction - both going straight - on...           0   \n",
       "18      From same direction - both going straight - on...           0   \n",
       "19                                 One parked--one moving           0   \n",
       "20      From same direction - both going straight - on...           0   \n",
       "21                                      Entering at angle           0   \n",
       "22                                 One parked--one moving           0   \n",
       "23                                           Other object           0   \n",
       "24      From same direction - both going straight - on...           0   \n",
       "25                           Vehicle Strikes Pedalcyclist           0   \n",
       "26      From opposite direction - one left turn - one ...           0   \n",
       "27                                      Entering at angle           0   \n",
       "28                       From same direction - all others           0   \n",
       "29                                 One parked--one moving           0   \n",
       "...                                                   ...         ...   \n",
       "194643                    One car leaving parked position           0   \n",
       "194644                                  Entering at angle           0   \n",
       "194645  From same direction - one right turn - one str...           0   \n",
       "194646                                                NaN           0   \n",
       "194647             Vehicle going straight hits pedestrian           0   \n",
       "194648                                  Entering at angle           0   \n",
       "194649  From opposite direction - one left turn - one ...           0   \n",
       "194650                             One parked--one moving           0   \n",
       "194651             Vehicle going straight hits pedestrian           0   \n",
       "194652                             One parked--one moving           0   \n",
       "194653                             One parked--one moving           0   \n",
       "194654                                                NaN           0   \n",
       "194655                                                NaN           0   \n",
       "194656               Vehicle turning left hits pedestrian           0   \n",
       "194657  From same direction - both going straight - bo...           0   \n",
       "194658  From same direction - both going straight - on...           0   \n",
       "194659                             One parked--one moving           0   \n",
       "194660                                 Vehicle overturned           0   \n",
       "194661  From opposite direction - one left turn - one ...           0   \n",
       "194662                             One parked--one moving           0   \n",
       "194663                                  Entering at angle           0   \n",
       "194664                                  Entering at angle           0   \n",
       "194665                                  Entering at angle           0   \n",
       "194666                                  Entering at angle           0   \n",
       "194667                                       Fixed object           0   \n",
       "194668    From opposite direction - both moving - head-on           0   \n",
       "194669  From same direction - both going straight - bo...           0   \n",
       "194670  From opposite direction - one left turn - one ...           0   \n",
       "194671                       Vehicle Strikes Pedalcyclist        4308   \n",
       "194672  From same direction - both going straight - on...           0   \n",
       "\n",
       "        CROSSWALKKEY  HITPARKEDCAR  \n",
       "0                  0             N  \n",
       "1                  0             N  \n",
       "2                  0             N  \n",
       "3                  0             N  \n",
       "4                  0             N  \n",
       "5                  0             N  \n",
       "6                  0             N  \n",
       "7                  0             N  \n",
       "8                  0             N  \n",
       "9                  0             N  \n",
       "10                 0             N  \n",
       "11                 0             N  \n",
       "12                 0             N  \n",
       "13                 0             N  \n",
       "14                 0             N  \n",
       "15                 0             N  \n",
       "16                 0             N  \n",
       "17                 0             N  \n",
       "18                 0             N  \n",
       "19                 0             N  \n",
       "20                 0             N  \n",
       "21                 0             N  \n",
       "22                 0             N  \n",
       "23                 0             N  \n",
       "24                 0             N  \n",
       "25                 0             N  \n",
       "26                 0             N  \n",
       "27                 0             N  \n",
       "28                 0             N  \n",
       "29                 0             N  \n",
       "...              ...           ...  \n",
       "194643             0             N  \n",
       "194644             0             N  \n",
       "194645             0             N  \n",
       "194646             0             N  \n",
       "194647             0             N  \n",
       "194648             0             N  \n",
       "194649             0             N  \n",
       "194650             0             Y  \n",
       "194651        522257             N  \n",
       "194652             0             Y  \n",
       "194653             0             Y  \n",
       "194654             0             N  \n",
       "194655        650595             N  \n",
       "194656        523322             N  \n",
       "194657             0             N  \n",
       "194658             0             N  \n",
       "194659             0             Y  \n",
       "194660             0             N  \n",
       "194661             0             N  \n",
       "194662             0             Y  \n",
       "194663             0             N  \n",
       "194664             0             N  \n",
       "194665             0             N  \n",
       "194666             0             N  \n",
       "194667             0             N  \n",
       "194668             0             N  \n",
       "194669             0             N  \n",
       "194670             0             N  \n",
       "194671             0             N  \n",
       "194672             0             N  \n",
       "\n",
       "[194673 rows x 38 columns]>"
      ]
     },
     "execution_count": 50,
     "metadata": {},
     "output_type": "execute_result"
    }
   ],
   "source": [
    "df.info"
   ]
  },
  {
   "cell_type": "code",
   "execution_count": 51,
   "metadata": {},
   "outputs": [
    {
     "data": {
      "text/plain": [
       "SEVERITYCODE           2\n",
       "X                  23563\n",
       "Y                  23839\n",
       "OBJECTID          194673\n",
       "INCKEY            194673\n",
       "COLDETKEY         194673\n",
       "REPORTNO          194670\n",
       "STATUS                 2\n",
       "ADDRTYPE               3\n",
       "INTKEY              7614\n",
       "LOCATION           24102\n",
       "EXCEPTRSNCODE          2\n",
       "EXCEPTRSNDESC          1\n",
       "SEVERITYCODE.1         2\n",
       "SEVERITYDESC           2\n",
       "COLLISIONTYPE         10\n",
       "PERSONCOUNT           47\n",
       "PEDCOUNT               7\n",
       "PEDCYLCOUNT            3\n",
       "VEHCOUNT              13\n",
       "INCDATE             5985\n",
       "INCDTTM           162058\n",
       "JUNCTIONTYPE           7\n",
       "SDOT_COLCODE          39\n",
       "SDOT_COLDESC          39\n",
       "INATTENTIONIND         1\n",
       "UNDERINFL              4\n",
       "WEATHER               11\n",
       "ROADCOND               9\n",
       "LIGHTCOND              9\n",
       "PEDROWNOTGRNT          1\n",
       "SDOTCOLNUM        114932\n",
       "SPEEDING               1\n",
       "ST_COLCODE            63\n",
       "ST_COLDESC            62\n",
       "SEGLANEKEY          1955\n",
       "CROSSWALKKEY        2198\n",
       "HITPARKEDCAR           2\n",
       "dtype: int64"
      ]
     },
     "execution_count": 51,
     "metadata": {},
     "output_type": "execute_result"
    }
   ],
   "source": [
    "#Unique values per column\n",
    "df.nunique()"
   ]
  },
  {
   "cell_type": "code",
   "execution_count": 52,
   "metadata": {},
   "outputs": [
    {
     "data": {
      "text/plain": [
       "SEVERITYCODE       0.000000\n",
       "X                  0.028172\n",
       "Y                  0.028172\n",
       "OBJECTID           0.000000\n",
       "INCKEY             0.000000\n",
       "COLDETKEY          0.000000\n",
       "REPORTNO           0.000000\n",
       "STATUS             0.000000\n",
       "ADDRTYPE           0.009992\n",
       "INTKEY             1.991747\n",
       "LOCATION           0.013943\n",
       "EXCEPTRSNCODE      1.295374\n",
       "EXCEPTRSNDESC     33.528734\n",
       "SEVERITYCODE.1     0.000000\n",
       "SEVERITYDESC       0.000000\n",
       "COLLISIONTYPE      0.025842\n",
       "PERSONCOUNT        0.000000\n",
       "PEDCOUNT           0.000000\n",
       "PEDCYLCOUNT        0.000000\n",
       "VEHCOUNT           0.000000\n",
       "INCDATE            0.000000\n",
       "INCDTTM            0.000000\n",
       "JUNCTIONTYPE       0.033603\n",
       "SDOT_COLCODE       0.000000\n",
       "SDOT_COLDESC       0.000000\n",
       "INATTENTIONIND     5.531555\n",
       "UNDERINFL          0.025734\n",
       "WEATHER            0.026800\n",
       "ROADCOND           0.026426\n",
       "LIGHTCOND          0.027282\n",
       "PEDROWNOTGRNT     40.712663\n",
       "SDOTCOLNUM         0.693751\n",
       "SPEEDING          19.858566\n",
       "ST_COLCODE         0.000092\n",
       "ST_COLDESC         0.025842\n",
       "SEGLANEKEY         0.000000\n",
       "CROSSWALKKEY       0.000000\n",
       "HITPARKEDCAR       0.000000\n",
       "dtype: float64"
      ]
     },
     "execution_count": 52,
     "metadata": {},
     "output_type": "execute_result"
    }
   ],
   "source": [
    "#Missing Values, so we can identify how many are unknown, in order\n",
    "missing_values=df.isna().sum()\n",
    "count=df.count()\n",
    "missing_values/count\n"
   ]
  },
  {
   "cell_type": "code",
   "execution_count": 53,
   "metadata": {},
   "outputs": [
    {
     "data": {
      "text/html": [
       "<div>\n",
       "<style scoped>\n",
       "    .dataframe tbody tr th:only-of-type {\n",
       "        vertical-align: middle;\n",
       "    }\n",
       "\n",
       "    .dataframe tbody tr th {\n",
       "        vertical-align: top;\n",
       "    }\n",
       "\n",
       "    .dataframe thead th {\n",
       "        text-align: right;\n",
       "    }\n",
       "</style>\n",
       "<table border=\"1\" class=\"dataframe\">\n",
       "  <thead>\n",
       "    <tr style=\"text-align: right;\">\n",
       "      <th></th>\n",
       "      <th>SEVERITYCODE</th>\n",
       "      <th>X</th>\n",
       "      <th>Y</th>\n",
       "      <th>OBJECTID</th>\n",
       "      <th>INCKEY</th>\n",
       "      <th>COLDETKEY</th>\n",
       "      <th>INTKEY</th>\n",
       "      <th>SEVERITYCODE.1</th>\n",
       "      <th>PERSONCOUNT</th>\n",
       "      <th>PEDCOUNT</th>\n",
       "      <th>PEDCYLCOUNT</th>\n",
       "      <th>VEHCOUNT</th>\n",
       "      <th>SDOT_COLCODE</th>\n",
       "      <th>SDOTCOLNUM</th>\n",
       "      <th>SEGLANEKEY</th>\n",
       "      <th>CROSSWALKKEY</th>\n",
       "    </tr>\n",
       "  </thead>\n",
       "  <tbody>\n",
       "    <tr>\n",
       "      <th>count</th>\n",
       "      <td>194673.000000</td>\n",
       "      <td>189339.000000</td>\n",
       "      <td>189339.000000</td>\n",
       "      <td>194673.000000</td>\n",
       "      <td>194673.000000</td>\n",
       "      <td>194673.000000</td>\n",
       "      <td>65070.000000</td>\n",
       "      <td>194673.000000</td>\n",
       "      <td>194673.000000</td>\n",
       "      <td>194673.000000</td>\n",
       "      <td>194673.000000</td>\n",
       "      <td>194673.000000</td>\n",
       "      <td>194673.000000</td>\n",
       "      <td>1.149360e+05</td>\n",
       "      <td>194673.000000</td>\n",
       "      <td>1.946730e+05</td>\n",
       "    </tr>\n",
       "    <tr>\n",
       "      <th>mean</th>\n",
       "      <td>1.298901</td>\n",
       "      <td>-122.330518</td>\n",
       "      <td>47.619543</td>\n",
       "      <td>108479.364930</td>\n",
       "      <td>141091.456350</td>\n",
       "      <td>141298.811381</td>\n",
       "      <td>37558.450576</td>\n",
       "      <td>1.298901</td>\n",
       "      <td>2.444427</td>\n",
       "      <td>0.037139</td>\n",
       "      <td>0.028391</td>\n",
       "      <td>1.920780</td>\n",
       "      <td>13.867768</td>\n",
       "      <td>7.972521e+06</td>\n",
       "      <td>269.401114</td>\n",
       "      <td>9.782452e+03</td>\n",
       "    </tr>\n",
       "    <tr>\n",
       "      <th>std</th>\n",
       "      <td>0.457778</td>\n",
       "      <td>0.029976</td>\n",
       "      <td>0.056157</td>\n",
       "      <td>62649.722558</td>\n",
       "      <td>86634.402737</td>\n",
       "      <td>86986.542110</td>\n",
       "      <td>51745.990273</td>\n",
       "      <td>0.457778</td>\n",
       "      <td>1.345929</td>\n",
       "      <td>0.198150</td>\n",
       "      <td>0.167413</td>\n",
       "      <td>0.631047</td>\n",
       "      <td>6.868755</td>\n",
       "      <td>2.553533e+06</td>\n",
       "      <td>3315.776055</td>\n",
       "      <td>7.226926e+04</td>\n",
       "    </tr>\n",
       "    <tr>\n",
       "      <th>min</th>\n",
       "      <td>1.000000</td>\n",
       "      <td>-122.419091</td>\n",
       "      <td>47.495573</td>\n",
       "      <td>1.000000</td>\n",
       "      <td>1001.000000</td>\n",
       "      <td>1001.000000</td>\n",
       "      <td>23807.000000</td>\n",
       "      <td>1.000000</td>\n",
       "      <td>0.000000</td>\n",
       "      <td>0.000000</td>\n",
       "      <td>0.000000</td>\n",
       "      <td>0.000000</td>\n",
       "      <td>0.000000</td>\n",
       "      <td>1.007024e+06</td>\n",
       "      <td>0.000000</td>\n",
       "      <td>0.000000e+00</td>\n",
       "    </tr>\n",
       "    <tr>\n",
       "      <th>25%</th>\n",
       "      <td>1.000000</td>\n",
       "      <td>-122.348673</td>\n",
       "      <td>47.575956</td>\n",
       "      <td>54267.000000</td>\n",
       "      <td>70383.000000</td>\n",
       "      <td>70383.000000</td>\n",
       "      <td>28667.000000</td>\n",
       "      <td>1.000000</td>\n",
       "      <td>2.000000</td>\n",
       "      <td>0.000000</td>\n",
       "      <td>0.000000</td>\n",
       "      <td>2.000000</td>\n",
       "      <td>11.000000</td>\n",
       "      <td>6.040015e+06</td>\n",
       "      <td>0.000000</td>\n",
       "      <td>0.000000e+00</td>\n",
       "    </tr>\n",
       "    <tr>\n",
       "      <th>50%</th>\n",
       "      <td>1.000000</td>\n",
       "      <td>-122.330224</td>\n",
       "      <td>47.615369</td>\n",
       "      <td>106912.000000</td>\n",
       "      <td>123363.000000</td>\n",
       "      <td>123363.000000</td>\n",
       "      <td>29973.000000</td>\n",
       "      <td>1.000000</td>\n",
       "      <td>2.000000</td>\n",
       "      <td>0.000000</td>\n",
       "      <td>0.000000</td>\n",
       "      <td>2.000000</td>\n",
       "      <td>13.000000</td>\n",
       "      <td>8.023022e+06</td>\n",
       "      <td>0.000000</td>\n",
       "      <td>0.000000e+00</td>\n",
       "    </tr>\n",
       "    <tr>\n",
       "      <th>75%</th>\n",
       "      <td>2.000000</td>\n",
       "      <td>-122.311937</td>\n",
       "      <td>47.663664</td>\n",
       "      <td>162272.000000</td>\n",
       "      <td>203319.000000</td>\n",
       "      <td>203459.000000</td>\n",
       "      <td>33973.000000</td>\n",
       "      <td>2.000000</td>\n",
       "      <td>3.000000</td>\n",
       "      <td>0.000000</td>\n",
       "      <td>0.000000</td>\n",
       "      <td>2.000000</td>\n",
       "      <td>14.000000</td>\n",
       "      <td>1.015501e+07</td>\n",
       "      <td>0.000000</td>\n",
       "      <td>0.000000e+00</td>\n",
       "    </tr>\n",
       "    <tr>\n",
       "      <th>max</th>\n",
       "      <td>2.000000</td>\n",
       "      <td>-122.238949</td>\n",
       "      <td>47.734142</td>\n",
       "      <td>219547.000000</td>\n",
       "      <td>331454.000000</td>\n",
       "      <td>332954.000000</td>\n",
       "      <td>757580.000000</td>\n",
       "      <td>2.000000</td>\n",
       "      <td>81.000000</td>\n",
       "      <td>6.000000</td>\n",
       "      <td>2.000000</td>\n",
       "      <td>12.000000</td>\n",
       "      <td>69.000000</td>\n",
       "      <td>1.307202e+07</td>\n",
       "      <td>525241.000000</td>\n",
       "      <td>5.239700e+06</td>\n",
       "    </tr>\n",
       "  </tbody>\n",
       "</table>\n",
       "</div>"
      ],
      "text/plain": [
       "        SEVERITYCODE              X              Y       OBJECTID  \\\n",
       "count  194673.000000  189339.000000  189339.000000  194673.000000   \n",
       "mean        1.298901    -122.330518      47.619543  108479.364930   \n",
       "std         0.457778       0.029976       0.056157   62649.722558   \n",
       "min         1.000000    -122.419091      47.495573       1.000000   \n",
       "25%         1.000000    -122.348673      47.575956   54267.000000   \n",
       "50%         1.000000    -122.330224      47.615369  106912.000000   \n",
       "75%         2.000000    -122.311937      47.663664  162272.000000   \n",
       "max         2.000000    -122.238949      47.734142  219547.000000   \n",
       "\n",
       "              INCKEY      COLDETKEY         INTKEY  SEVERITYCODE.1  \\\n",
       "count  194673.000000  194673.000000   65070.000000   194673.000000   \n",
       "mean   141091.456350  141298.811381   37558.450576        1.298901   \n",
       "std     86634.402737   86986.542110   51745.990273        0.457778   \n",
       "min      1001.000000    1001.000000   23807.000000        1.000000   \n",
       "25%     70383.000000   70383.000000   28667.000000        1.000000   \n",
       "50%    123363.000000  123363.000000   29973.000000        1.000000   \n",
       "75%    203319.000000  203459.000000   33973.000000        2.000000   \n",
       "max    331454.000000  332954.000000  757580.000000        2.000000   \n",
       "\n",
       "         PERSONCOUNT       PEDCOUNT    PEDCYLCOUNT       VEHCOUNT  \\\n",
       "count  194673.000000  194673.000000  194673.000000  194673.000000   \n",
       "mean        2.444427       0.037139       0.028391       1.920780   \n",
       "std         1.345929       0.198150       0.167413       0.631047   \n",
       "min         0.000000       0.000000       0.000000       0.000000   \n",
       "25%         2.000000       0.000000       0.000000       2.000000   \n",
       "50%         2.000000       0.000000       0.000000       2.000000   \n",
       "75%         3.000000       0.000000       0.000000       2.000000   \n",
       "max        81.000000       6.000000       2.000000      12.000000   \n",
       "\n",
       "        SDOT_COLCODE    SDOTCOLNUM     SEGLANEKEY  CROSSWALKKEY  \n",
       "count  194673.000000  1.149360e+05  194673.000000  1.946730e+05  \n",
       "mean       13.867768  7.972521e+06     269.401114  9.782452e+03  \n",
       "std         6.868755  2.553533e+06    3315.776055  7.226926e+04  \n",
       "min         0.000000  1.007024e+06       0.000000  0.000000e+00  \n",
       "25%        11.000000  6.040015e+06       0.000000  0.000000e+00  \n",
       "50%        13.000000  8.023022e+06       0.000000  0.000000e+00  \n",
       "75%        14.000000  1.015501e+07       0.000000  0.000000e+00  \n",
       "max        69.000000  1.307202e+07  525241.000000  5.239700e+06  "
      ]
     },
     "execution_count": 53,
     "metadata": {},
     "output_type": "execute_result"
    }
   ],
   "source": [
    "df.describe()"
   ]
  },
  {
   "cell_type": "code",
   "execution_count": 54,
   "metadata": {},
   "outputs": [
    {
     "data": {
      "text/plain": [
       "Text(0.5, 1.05, 'Correlation Matrix')"
      ]
     },
     "execution_count": 54,
     "metadata": {},
     "output_type": "execute_result"
    },
    {
     "data": {
      "image/png": "[encoded data removed]",
      "text/plain": [
       "<Figure size 720x720 with 2 Axes>"
      ]
     },
     "metadata": {
      "needs_background": "light"
     },
     "output_type": "display_data"
    }
   ],
   "source": [
    "corr = df.corr()\n",
    "#corr.style.background_gradient(cmap='coolwarm')\n",
    "f = plt.figure(figsize=(10, 10))\n",
    "plt.matshow(corr, fignum=f.number)\n",
    "plt.xticks(range(df.shape[1]), df.columns, fontsize=11, rotation=90)\n",
    "plt.yticks(range(df.shape[1]), df.columns, fontsize=11)\n",
    "cb = plt.colorbar()\n",
    "cb.ax.tick_params(labelsize=11)\n",
    "plt.title('Correlation Matrix', fontsize=11)\n",
    "\n"
   ]
  },
  {
   "cell_type": "code",
   "execution_count": 58,
   "metadata": {},
   "outputs": [],
   "source": [
    "\n",
    "selected_cols = df[[\"SEVERITYCODE\",\"ROADCOND\",\"LIGHTCOND\",\"WEATHER\"]]\n"
   ]
  },
  {
   "cell_type": "code",
   "execution_count": 59,
   "metadata": {},
   "outputs": [
    {
     "data": {
      "text/html": [
       "<div>\n",
       "<style scoped>\n",
       "    .dataframe tbody tr th:only-of-type {\n",
       "        vertical-align: middle;\n",
       "    }\n",
       "\n",
       "    .dataframe tbody tr th {\n",
       "        vertical-align: top;\n",
       "    }\n",
       "\n",
       "    .dataframe thead th {\n",
       "        text-align: right;\n",
       "    }\n",
       "</style>\n",
       "<table border=\"1\" class=\"dataframe\">\n",
       "  <thead>\n",
       "    <tr style=\"text-align: right;\">\n",
       "      <th></th>\n",
       "      <th>SEVERITYCODE</th>\n",
       "      <th>ROADCOND</th>\n",
       "      <th>LIGHTCOND</th>\n",
       "      <th>WEATHER</th>\n",
       "    </tr>\n",
       "  </thead>\n",
       "  <tbody>\n",
       "    <tr>\n",
       "      <th>0</th>\n",
       "      <td>2</td>\n",
       "      <td>Wet</td>\n",
       "      <td>Daylight</td>\n",
       "      <td>Overcast</td>\n",
       "    </tr>\n",
       "    <tr>\n",
       "      <th>1</th>\n",
       "      <td>1</td>\n",
       "      <td>Wet</td>\n",
       "      <td>Dark - Street Lights On</td>\n",
       "      <td>Raining</td>\n",
       "    </tr>\n",
       "    <tr>\n",
       "      <th>2</th>\n",
       "      <td>1</td>\n",
       "      <td>Dry</td>\n",
       "      <td>Daylight</td>\n",
       "      <td>Overcast</td>\n",
       "    </tr>\n",
       "    <tr>\n",
       "      <th>3</th>\n",
       "      <td>1</td>\n",
       "      <td>Dry</td>\n",
       "      <td>Daylight</td>\n",
       "      <td>Clear</td>\n",
       "    </tr>\n",
       "    <tr>\n",
       "      <th>4</th>\n",
       "      <td>2</td>\n",
       "      <td>Wet</td>\n",
       "      <td>Daylight</td>\n",
       "      <td>Raining</td>\n",
       "    </tr>\n",
       "  </tbody>\n",
       "</table>\n",
       "</div>"
      ],
      "text/plain": [
       "   SEVERITYCODE ROADCOND                LIGHTCOND   WEATHER\n",
       "0             2      Wet                 Daylight  Overcast\n",
       "1             1      Wet  Dark - Street Lights On   Raining\n",
       "2             1      Dry                 Daylight  Overcast\n",
       "3             1      Dry                 Daylight     Clear\n",
       "4             2      Wet                 Daylight   Raining"
      ]
     },
     "execution_count": 59,
     "metadata": {},
     "output_type": "execute_result"
    }
   ],
   "source": [
    "selected_cols.head()"
   ]
  },
  {
   "cell_type": "code",
   "execution_count": 83,
   "metadata": {},
   "outputs": [
    {
     "name": "stderr",
     "output_type": "stream",
     "text": [
      "C:\\Users\\abel.fernandez.alva1\\AppData\\Local\\Continuum\\anaconda3\\lib\\site-packages\\pandas\\core\\generic.py:6586: SettingWithCopyWarning: \n",
      "A value is trying to be set on a copy of a slice from a DataFrame\n",
      "\n",
      "See the caveats in the documentation: http://pandas.pydata.org/pandas-docs/stable/indexing.html#indexing-view-versus-copy\n",
      "  self._update_inplace(new_data)\n"
     ]
    }
   ],
   "source": [
    "#We label the light conditions on numerical values\n",
    "selected_cols[\"LIGHTCOND\"].replace(\"Daylight\", 0, inplace=True)\n",
    "selected_cols[\"LIGHTCOND\"].replace(\"Dark - Street Lights On\", 1, inplace=True)\n",
    "selected_cols[\"LIGHTCOND\"].replace(\"Dark - No Street Lights\", 2, inplace=True)\n",
    "selected_cols[\"LIGHTCOND\"].replace(\"Dusk\", 1, inplace=True)\n",
    "selected_cols[\"LIGHTCOND\"].replace(\"Dawn\", 1, inplace=True)\n",
    "selected_cols[\"LIGHTCOND\"].replace(\"Dark - Street Lights Off\", 2, inplace=True)\n",
    "selected_cols[\"LIGHTCOND\"].replace(\"Dark - Unknown Lighting\", 2, inplace=True)\n",
    "selected_cols[\"LIGHTCOND\"].replace(\"Other\",3, inplace=True)\n",
    "selected_cols[\"LIGHTCOND\"].replace(\"Unknown\",3, inplace=True)\n",
    "\n",
    "#THe same for the weather conditions\n",
    "selected_cols[\"WEATHER\"].replace(\"Clear\", 0, inplace=True)\n",
    "selected_cols[\"WEATHER\"].replace(\"Raining\", 3, inplace=True)\n",
    "selected_cols[\"WEATHER\"].replace(\"Overcast\", 1, inplace=True)\n",
    "selected_cols[\"WEATHER\"].replace(\"Other\", 4, inplace=True)\n",
    "selected_cols[\"WEATHER\"].replace(\"Snowing\", 3, inplace=True)\n",
    "selected_cols[\"WEATHER\"].replace(\"Fog/Smog/Smoke\", 2, inplace=True)\n",
    "selected_cols[\"WEATHER\"].replace(\"Sleet/Hail/Freezing Rain\", 3, inplace=True)\n",
    "selected_cols[\"WEATHER\"].replace(\"Blowing Sand/Dirt\", 2, inplace=True)\n",
    "selected_cols[\"WEATHER\"].replace(\"Severe Crosswind\", 2, inplace=True)\n",
    "selected_cols[\"WEATHER\"].replace(\"Partly Cloudy\", 1, inplace=True)\n",
    "selected_cols[\"WEATHER\"].replace(\"Unknown\", 4, inplace=True)\n",
    "\n",
    "\n",
    "#The same for road conditions\n",
    "\n",
    "selected_cols[\"ROADCOND\"].replace(\"Dry\", 0, inplace=True)\n",
    "selected_cols[\"ROADCOND\"].replace(\"Wet\", 2, inplace=True)\n",
    "selected_cols[\"ROADCOND\"].replace(\"Ice\", 2, inplace=True)\n",
    "selected_cols[\"ROADCOND\"].replace(\"Snow/Slush\", 1, inplace=True)\n",
    "selected_cols[\"ROADCOND\"].replace(\"Other\", 3, inplace=True)\n",
    "selected_cols[\"ROADCOND\"].replace(\"Unknown\", 3, inplace=True)\n",
    "selected_cols[\"ROADCOND\"].replace(\"Standing Water\", 2, inplace=True)\n",
    "selected_cols[\"ROADCOND\"].replace(\"Sand/Mud/Dirt\", 1, inplace=True)\n",
    "selected_cols[\"ROADCOND\"].replace(\"Oil\", 2, inplace=True)"
   ]
  },
  {
   "cell_type": "code",
   "execution_count": 101,
   "metadata": {},
   "outputs": [],
   "source": [
    "select=selected_cols.dropna()"
   ]
  },
  {
   "cell_type": "markdown",
   "metadata": {},
   "source": [
    "# Data Review\n",
    "When reviewing the data we can encounter that Severity code has a  vast majority of data for one type which can affect our prediction. A downsize is needed in order to ensure any bias."
   ]
  },
  {
   "cell_type": "code",
   "execution_count": 137,
   "metadata": {},
   "outputs": [
    {
     "data": {
      "text/plain": [
       "1    132285\n",
       "2     57052\n",
       "Name: SEVERITYCODE, dtype: int64"
      ]
     },
     "execution_count": 137,
     "metadata": {},
     "output_type": "execute_result"
    }
   ],
   "source": [
    "select[\"SEVERITYCODE\"].value_counts()"
   ]
  },
  {
   "cell_type": "code",
   "execution_count": 140,
   "metadata": {},
   "outputs": [
    {
     "name": "stdout",
     "output_type": "stream",
     "text": [
      "Class 0: 132285\n",
      "Class 1: 57052\n",
      "Proportion: 2.32 : 1\n"
     ]
    },
    {
     "data": {
      "text/plain": [
       "<matplotlib.axes._subplots.AxesSubplot at 0xe432f60>"
      ]
     },
     "execution_count": 140,
     "metadata": {},
     "output_type": "execute_result"
    },
    {
     "data": {
      "image/png": "[encoded data removed]",
      "text/plain": [
       "<Figure size 432x288 with 1 Axes>"
      ]
     },
     "metadata": {
      "needs_background": "light"
     },
     "output_type": "display_data"
    }
   ],
   "source": [
    "target_df = select[\"SEVERITYCODE\"].value_counts()\n",
    "print('Class 0:', target_df[1])\n",
    "print('Class 1:', target_df[2])\n",
    "print('Proportion:', round(target_df[1] / target_df[2], 2), ': 1')\n",
    "\n",
    "target_df.plot(kind='bar', title='Count (target)')"
   ]
  },
  {
   "cell_type": "code",
   "execution_count": 164,
   "metadata": {},
   "outputs": [
    {
     "data": {
      "text/plain": [
       "1    58188\n",
       "2    57052\n",
       "Name: SEVERITYCODE, dtype: int64"
      ]
     },
     "execution_count": 164,
     "metadata": {},
     "output_type": "execute_result"
    }
   ],
   "source": [
    "#Downsample the majority class\n",
    "from sklearn.utils import resample\n",
    "# Seperate majority and minority classes\n",
    "colData_majority = select[select.SEVERITYCODE==1]\n",
    "colData_minority = select[select.SEVERITYCODE==2]\n",
    "\n",
    "#Downsample majority class\n",
    "colData_majority_downsampled = resample(colData_majority,\n",
    "                                        replace=False,\n",
    "                                        n_samples=58188,\n",
    "                                        random_state=123)\n",
    "\n",
    "# Combine minority class with downsampled majority class\n",
    "colData_balanced = pd.concat([colData_majority_downsampled, colData_minority])\n",
    "\n",
    "# Display new class counts\n",
    "colData_balanced.SEVERITYCODE.value_counts()"
   ]
  },
  {
   "cell_type": "markdown",
   "metadata": {},
   "source": [
    "# Methodology \n",
    "With the Data ready, we can start sampling the data for its review using the following methods:\n",
    "\n",
    "## K-Nearest Neighbor (KNN)\n",
    "From the data, it will help us predict the severity code depending on the data near it.\n",
    "\n",
    "## Decision Tree\n",
    "A decision tree model gives us a layout of all possible outcomes so we can fully analyze the consequences of a decision. It context, the decision tree observes all possible outcomes of different weather conditions.\n",
    "\n",
    "## Logistic Regression\n",
    "Due to the binarity of the nature of our variable SEVERITYCODE, the model will only predict one of those two classes. This makes our data binary, which is suitable to use with logistic regression."
   ]
  },
  {
   "cell_type": "code",
   "execution_count": 166,
   "metadata": {},
   "outputs": [],
   "source": [
    "#Creation of the data sets\n",
    "X=select[[\"ROADCOND\",\"WEATHER\",\"LIGHTCOND\"]].values\n",
    "y=select[[\"SEVERITYCODE\"]].values"
   ]
  },
  {
   "cell_type": "code",
   "execution_count": 167,
   "metadata": {},
   "outputs": [
    {
     "data": {
      "text/plain": [
       "array([[ 1.14, -0.02, -0.65],\n",
       "       [ 1.14,  1.37,  0.54],\n",
       "       [-0.7 , -0.02, -0.65],\n",
       "       [-0.7 , -0.72, -0.65],\n",
       "       [ 1.14,  1.37, -0.65]])"
      ]
     },
     "execution_count": 167,
     "metadata": {},
     "output_type": "execute_result"
    }
   ],
   "source": [
    "from sklearn import preprocessing\n",
    "X = preprocessing.StandardScaler().fit(X).transform(X)\n",
    "X[0:5]"
   ]
  },
  {
   "cell_type": "code",
   "execution_count": 168,
   "metadata": {},
   "outputs": [
    {
     "name": "stdout",
     "output_type": "stream",
     "text": [
      "Train set: (132535, 3) (132535, 1)\n",
      "Test set: (56802, 3) (56802, 1)\n"
     ]
    }
   ],
   "source": [
    "#Test/Train split (30 train)\n",
    "X_train, X_test, y_train, y_test = train_test_split(X, y, test_size=0.3, random_state=4)\n",
    "\n",
    "print ('Train set:', X_train.shape,  y_train.shape)\n",
    "print ('Test set:', X_test.shape,  y_test.shape)\n"
   ]
  },
  {
   "cell_type": "markdown",
   "metadata": {},
   "source": [
    "# K- Nearest Neighbors"
   ]
  },
  {
   "cell_type": "code",
   "execution_count": 169,
   "metadata": {},
   "outputs": [],
   "source": [
    "#K-Nearest Neighbors method\n",
    "from sklearn.neighbors import KNeighborsClassifier\n",
    "\n",
    "k = 25"
   ]
  },
  {
   "cell_type": "code",
   "execution_count": 170,
   "metadata": {},
   "outputs": [
    {
     "name": "stderr",
     "output_type": "stream",
     "text": [
      "C:\\Users\\abel.fernandez.alva1\\AppData\\Local\\Continuum\\anaconda3\\lib\\site-packages\\ipykernel_launcher.py:2: DataConversionWarning: A column-vector y was passed when a 1d array was expected. Please change the shape of y to (n_samples, ), for example using ravel().\n",
      "  \n"
     ]
    },
    {
     "data": {
      "text/plain": [
       "array([1, 1, 1, 1, 1], dtype=int64)"
      ]
     },
     "execution_count": 170,
     "metadata": {},
     "output_type": "execute_result"
    }
   ],
   "source": [
    "#Train model and predict\n",
    "neigh = KNeighborsClassifier(n_neighbors = k).fit(X_train,y_train)\n",
    "neigh\n",
    "\n",
    "Kyhat = neigh.predict(X_test)\n",
    "Kyhat[0:5]"
   ]
  },
  {
   "cell_type": "markdown",
   "metadata": {},
   "source": [
    "# Decision Tree"
   ]
  },
  {
   "cell_type": "code",
   "execution_count": 171,
   "metadata": {},
   "outputs": [
    {
     "data": {
      "text/plain": [
       "DecisionTreeClassifier(class_weight=None, criterion='entropy', max_depth=7,\n",
       "                       max_features=None, max_leaf_nodes=None,\n",
       "                       min_impurity_decrease=0.0, min_impurity_split=None,\n",
       "                       min_samples_leaf=1, min_samples_split=2,\n",
       "                       min_weight_fraction_leaf=0.0, presort=False,\n",
       "                       random_state=None, splitter='best')"
      ]
     },
     "execution_count": 171,
     "metadata": {},
     "output_type": "execute_result"
    }
   ],
   "source": [
    "#Decision Tree\n",
    "from sklearn.tree import DecisionTreeClassifier\n",
    "colDataTree = DecisionTreeClassifier(criterion=\"entropy\", max_depth = 7)\n",
    "colDataTree\n",
    "colDataTree.fit(X_train,y_train)\n"
   ]
  },
  {
   "cell_type": "code",
   "execution_count": 175,
   "metadata": {},
   "outputs": [
    {
     "name": "stdout",
     "output_type": "stream",
     "text": [
      "[[1]\n",
      " [1]\n",
      " [1]\n",
      " [1]\n",
      " [2]]\n"
     ]
    }
   ],
   "source": [
    "# Train Model & Predict\n",
    "DTyhat = colDataTree.predict(X_test)\n",
    "print (y_test [0:5])"
   ]
  },
  {
   "cell_type": "markdown",
   "metadata": {},
   "source": [
    "# LOGISTIC REGRESSION"
   ]
  },
  {
   "cell_type": "code",
   "execution_count": 176,
   "metadata": {},
   "outputs": [
    {
     "name": "stderr",
     "output_type": "stream",
     "text": [
      "C:\\Users\\abel.fernandez.alva1\\AppData\\Local\\Continuum\\anaconda3\\lib\\site-packages\\sklearn\\utils\\validation.py:724: DataConversionWarning: A column-vector y was passed when a 1d array was expected. Please change the shape of y to (n_samples, ), for example using ravel().\n",
      "  y = column_or_1d(y, warn=True)\n"
     ]
    },
    {
     "data": {
      "text/plain": [
       "LogisticRegression(C=6, class_weight=None, dual=False, fit_intercept=True,\n",
       "                   intercept_scaling=1, l1_ratio=None, max_iter=100,\n",
       "                   multi_class='warn', n_jobs=None, penalty='l2',\n",
       "                   random_state=None, solver='liblinear', tol=0.0001, verbose=0,\n",
       "                   warm_start=False)"
      ]
     },
     "execution_count": 176,
     "metadata": {},
     "output_type": "execute_result"
    }
   ],
   "source": [
    "#Logistic Regression\n",
    "from sklearn.linear_model import LogisticRegression\n",
    "from sklearn.metrics import confusion_matrix\n",
    "LR = LogisticRegression(C=6, solver='liblinear').fit(X_train,y_train)\n",
    "LR"
   ]
  },
  {
   "cell_type": "code",
   "execution_count": 177,
   "metadata": {},
   "outputs": [
    {
     "data": {
      "text/plain": [
       "array([1, 1, 1, ..., 1, 1, 1], dtype=int64)"
      ]
     },
     "execution_count": 177,
     "metadata": {},
     "output_type": "execute_result"
    }
   ],
   "source": [
    "\n",
    "# Train Model & Predicr\n",
    "LRyhat = LR.predict(X_test)\n",
    "LRyhat"
   ]
  },
  {
   "cell_type": "code",
   "execution_count": 178,
   "metadata": {},
   "outputs": [
    {
     "data": {
      "text/plain": [
       "array([[0.64, 0.36],\n",
       "       [0.89, 0.11],\n",
       "       [0.76, 0.24],\n",
       "       ...,\n",
       "       [0.67, 0.33],\n",
       "       [0.75, 0.25],\n",
       "       [0.86, 0.14]])"
      ]
     },
     "execution_count": 178,
     "metadata": {},
     "output_type": "execute_result"
    }
   ],
   "source": [
    "yhat_prob = LR.predict_proba(X_test)\n",
    "yhat_prob"
   ]
  },
  {
   "cell_type": "markdown",
   "metadata": {},
   "source": [
    "# Review Results final"
   ]
  },
  {
   "cell_type": "code",
   "execution_count": 180,
   "metadata": {},
   "outputs": [],
   "source": [
    "from sklearn.metrics import jaccard_similarity_score\n",
    "from sklearn.metrics import f1_score\n",
    "from sklearn.metrics import log_loss\n"
   ]
  },
  {
   "cell_type": "markdown",
   "metadata": {},
   "source": [
    "# K-Nearest Neighbors"
   ]
  },
  {
   "cell_type": "code",
   "execution_count": 183,
   "metadata": {},
   "outputs": [
    {
     "name": "stderr",
     "output_type": "stream",
     "text": [
      "C:\\Users\\abel.fernandez.alva1\\AppData\\Local\\Continuum\\anaconda3\\lib\\site-packages\\sklearn\\metrics\\classification.py:635: DeprecationWarning: jaccard_similarity_score has been deprecated and replaced with jaccard_score. It will be removed in version 0.23. This implementation has surprising behavior for binary and multiclass classification tasks.\n",
      "  'and multiclass classification tasks.', DeprecationWarning)\n"
     ]
    },
    {
     "data": {
      "text/plain": [
       "0.6985141368261681"
      ]
     },
     "execution_count": 183,
     "metadata": {},
     "output_type": "execute_result"
    }
   ],
   "source": [
    " \n",
    "# Jaccard Similarity Score\n",
    "jaccard_similarity_score(y_test, Kyhat)\n"
   ]
  },
  {
   "cell_type": "code",
   "execution_count": 184,
   "metadata": {},
   "outputs": [
    {
     "data": {
      "text/plain": [
       "0.4112501166056863"
      ]
     },
     "execution_count": 184,
     "metadata": {},
     "output_type": "execute_result"
    }
   ],
   "source": [
    "# F1-SCORE\n",
    "f1_score(y_test, Kyhat, average='macro')"
   ]
  },
  {
   "cell_type": "markdown",
   "metadata": {},
   "source": [
    "# Decision Tree"
   ]
  },
  {
   "cell_type": "code",
   "execution_count": 185,
   "metadata": {},
   "outputs": [
    {
     "name": "stderr",
     "output_type": "stream",
     "text": [
      "C:\\Users\\abel.fernandez.alva1\\AppData\\Local\\Continuum\\anaconda3\\lib\\site-packages\\sklearn\\metrics\\classification.py:635: DeprecationWarning: jaccard_similarity_score has been deprecated and replaced with jaccard_score. It will be removed in version 0.23. This implementation has surprising behavior for binary and multiclass classification tasks.\n",
      "  'and multiclass classification tasks.', DeprecationWarning)\n"
     ]
    },
    {
     "data": {
      "text/plain": [
       "0.6985141368261681"
      ]
     },
     "execution_count": 185,
     "metadata": {},
     "output_type": "execute_result"
    }
   ],
   "source": [
    "# Jaccard Similarity Score\n",
    "jaccard_similarity_score(y_test, DTyhat)"
   ]
  },
  {
   "cell_type": "code",
   "execution_count": 186,
   "metadata": {},
   "outputs": [
    {
     "data": {
      "text/plain": [
       "0.4112501166056863"
      ]
     },
     "execution_count": 186,
     "metadata": {},
     "output_type": "execute_result"
    }
   ],
   "source": [
    "# F1-SCORE\n",
    "f1_score(y_test, DTyhat, average='macro')"
   ]
  },
  {
   "cell_type": "markdown",
   "metadata": {},
   "source": [
    "# Logistic Regression"
   ]
  },
  {
   "cell_type": "code",
   "execution_count": 187,
   "metadata": {},
   "outputs": [
    {
     "name": "stderr",
     "output_type": "stream",
     "text": [
      "C:\\Users\\abel.fernandez.alva1\\AppData\\Local\\Continuum\\anaconda3\\lib\\site-packages\\sklearn\\metrics\\classification.py:635: DeprecationWarning: jaccard_similarity_score has been deprecated and replaced with jaccard_score. It will be removed in version 0.23. This implementation has surprising behavior for binary and multiclass classification tasks.\n",
      "  'and multiclass classification tasks.', DeprecationWarning)\n"
     ]
    },
    {
     "data": {
      "text/plain": [
       "0.6985141368261681"
      ]
     },
     "execution_count": 187,
     "metadata": {},
     "output_type": "execute_result"
    }
   ],
   "source": [
    "# Jaccard Similarity Score\n",
    "jaccard_similarity_score(y_test, LRyhat)"
   ]
  },
  {
   "cell_type": "code",
   "execution_count": 188,
   "metadata": {},
   "outputs": [
    {
     "data": {
      "text/plain": [
       "0.4112501166056863"
      ]
     },
     "execution_count": 188,
     "metadata": {},
     "output_type": "execute_result"
    }
   ],
   "source": [
    "# F1-SCORE\n",
    "f1_score(y_test, LRyhat, average='macro')"
   ]
  },
  {
   "cell_type": "code",
   "execution_count": 189,
   "metadata": {},
   "outputs": [
    {
     "data": {
      "text/plain": [
       "0.5990960616849885"
      ]
     },
     "execution_count": 189,
     "metadata": {},
     "output_type": "execute_result"
    }
   ],
   "source": [
    "# LOGLOSS\n",
    "yhat_prob = LR.predict_proba(X_test)\n",
    "log_loss(y_test, yhat_prob)"
   ]
  },
  {
   "cell_type": "markdown",
   "metadata": {},
   "source": [
    "# Discussion\n",
    "\n",
    "As can be seen, data cleansing in order to work with it is critical. In a data sample where the majority was categorical and not simple to work with, it neede an important part to work with.\n",
    "\n",
    "After that, and trying to balance the data for the SEVERITYCODE variable, which at the end is the variable that we are trying to predict (dependant), then we could work with the 3 models that have been the core of the study during these weeks: K-Nearest Neighbor, Decision Tree and Logistic Regression.\n",
    "\n",
    "From all the models, due to the nature of the binary data of the SEVERITYCODE, logistic regression is the most appropriate to work with.\n",
    "\n",
    "Evaluation metrics used to test the accuracy of our models were jaccard index, f-1 score and logloss for logistic regression. Choosing different k, max depth and hyperamater C values helped to improve our accuracy to be the best possible.\n"
   ]
  },
  {
   "cell_type": "markdown",
   "metadata": {},
   "source": [
    "# Conclusion\n",
    "Based on historical data from weather conditions pointing to certain classes, we can conclude that particular weather conditions have a somewhat impact on whether or not travel could result in property damage (class 1) or injury (class 2)."
   ]
  },
  {
   "cell_type": "code",
   "execution_count": null,
   "metadata": {},
   "outputs": [],
   "source": []
  }
 ],
 "metadata": {
  "kernelspec": {
   "display_name": "Python 3",
   "language": "python",
   "name": "python3"
  },
  "language_info": {
   "codemirror_mode": {
    "name": "ipython",
    "version": 3
   },
   "file_extension": ".py",
   "mimetype": "text/x-python",
   "name": "python",
   "nbconvert_exporter": "python",
   "pygments_lexer": "ipython3",
   "version": "3.7.3"
  }
 },
 "nbformat": 4,
 "nbformat_minor": 2
}
